{
 "cells": [
  {
   "cell_type": "code",
   "execution_count": 1,
   "metadata": {},
   "outputs": [
    {
     "name": "stderr",
     "output_type": "stream",
     "text": [
      "C:\\Users\\herutriana44\\AppData\\Local\\Temp\\ipykernel_7508\\4153759581.py:4: DeprecationWarning: ``qiskit.algorithms`` has been migrated to an independent package: https://github.com/qiskit-community/qiskit-algorithms. The ``qiskit.algorithms`` import path is deprecated as of qiskit-terra 0.25.0 and will be removed no earlier than 3 months after the release date. Please run ``pip install qiskit_algorithms`` and use ``import qiskit_algorithms`` instead.\n",
      "  from qiskit.algorithms.optimizers import COBYLA\n"
     ]
    }
   ],
   "source": [
    "\n",
    "import pickle\n",
    "from sklearn.metrics import accuracy_score, roc_auc_score\n",
    "import pandas as pd\n",
    "from qiskit.algorithms.optimizers import COBYLA\n",
    "from qiskit.circuit.library import TwoLocal, ZZFeatureMap\n",
    "from qiskit.utils import algorithm_globals\n",
    "from qiskit_machine_learning.algorithms import VQC\n",
    "from qiskit_machine_learning.datasets import ad_hoc_data\n",
    "import numpy as np\n",
    "from sklearn.preprocessing import label_binarize\n",
    "from sklearn.model_selection import train_test_split\n",
    "import os\n",
    "import qiskit\n",
    "from qiskit_ibm_runtime import QiskitRuntimeService, Sampler, Estimator, Session\n",
    "\n",
    "algorithm_globals.random_seed = 42\n"
   ]
  },
  {
   "cell_type": "code",
   "execution_count": 2,
   "metadata": {},
   "outputs": [],
   "source": [
    "IBM_API = \"d2f89283f9e773299d233cd7f60acf9bbe14813dbf8ce91a5e565c4836b1bce22b77879962c09def698596101c0b294f7300118d952c4ad85281f7d2e2931e7a\"\n",
    "# provider = IBMProvider(token=IBM_API)\n",
    "# backend = provider.get_backend(\"ibmq_qasm_simulator\")\n",
    "# quantum_instance = qiskit.utils.QuantumInstance(backend, shots=1024)"
   ]
  },
  {
   "cell_type": "code",
   "execution_count": 10,
   "metadata": {},
   "outputs": [],
   "source": [
    "service = QiskitRuntimeService(token=IBM_API, channel=\"ibm_quantum\")\n",
    "backend = service.backend(\"ibm_brisbane\")\n",
    "estimator, sampler = Estimator(session=Session(service=service, backend=backend)), Sampler(session=Session(service=service, backend=backend))"
   ]
  },
  {
   "cell_type": "code",
   "execution_count": 4,
   "metadata": {},
   "outputs": [],
   "source": [
    "template_name_model = \"allergen_vqc_model\"\n",
    "vqc = VQC.load(template_name_model)\n",
    "vqc.neural_network.sampler = sampler\n",
    "# vqc = VQC(feature_map=vqc.feature_map, ansatz=vqc.ansatz, optimizer=vqc.optimizer, sampler=sampler).load(template_name_model)"
   ]
  },
  {
   "cell_type": "code",
   "execution_count": 5,
   "metadata": {},
   "outputs": [
    {
     "name": "stdout",
     "output_type": "stream",
     "text": [
      "     »\n",
      "q_0: »\n",
      "     »\n",
      "q_1: »\n",
      "     »\n",
      "«     ┌──────────────────────────────────────────────────────────────────────────────────────────────────┐\n",
      "«q_0: ┤0                                                                                                 ├\n",
      "«     │  TwoLocal(θ[0],θ[1],θ[2],θ[3],θ[4],θ[5],θ[6],θ[7],θ[8],θ[9],θ[10],θ[11],θ[12],θ[13],θ[14],θ[15]) │\n",
      "«q_1: ┤1                                                                                                 ├\n",
      "«     └──────────────────────────────────────────────────────────────────────────────────────────────────┘\n"
     ]
    }
   ],
   "source": [
    "print(vqc.ansatz)"
   ]
  },
  {
   "cell_type": "code",
   "execution_count": 6,
   "metadata": {},
   "outputs": [
    {
     "name": "stdout",
     "output_type": "stream",
     "text": [
      "     ┌──────────────────────────┐\n",
      "q_0: ┤0                         ├\n",
      "     │  ZZFeatureMap(x[0],x[1]) │\n",
      "q_1: ┤1                         ├\n",
      "     └──────────────────────────┘\n"
     ]
    }
   ],
   "source": [
    "print(vqc.feature_map)"
   ]
  },
  {
   "cell_type": "code",
   "execution_count": 7,
   "metadata": {},
   "outputs": [
    {
     "name": "stdout",
     "output_type": "stream",
     "text": [
      "     ┌──────────────────────────┐»\n",
      "q_0: ┤0                         ├»\n",
      "     │  ZZFeatureMap(x[0],x[1]) │»\n",
      "q_1: ┤1                         ├»\n",
      "     └──────────────────────────┘»\n",
      "«     ┌──────────────────────────────────────────────────────────────────────────────────────────────────┐\n",
      "«q_0: ┤0                                                                                                 ├\n",
      "«     │  TwoLocal(θ[0],θ[1],θ[2],θ[3],θ[4],θ[5],θ[6],θ[7],θ[8],θ[9],θ[10],θ[11],θ[12],θ[13],θ[14],θ[15]) │\n",
      "«q_1: ┤1                                                                                                 ├\n",
      "«     └──────────────────────────────────────────────────────────────────────────────────────────────────┘\n"
     ]
    }
   ],
   "source": [
    "print(vqc.circuit)"
   ]
  },
  {
   "cell_type": "code",
   "execution_count": 8,
   "metadata": {},
   "outputs": [
    {
     "data": {
      "text/plain": [
       "array(1)"
      ]
     },
     "execution_count": 8,
     "metadata": {},
     "output_type": "execute_result"
    }
   ],
   "source": [
    "a = vqc.predict([[0.21412, 0.5125214124]])\n",
    "a"
   ]
  },
  {
   "cell_type": "code",
   "execution_count": 9,
   "metadata": {},
   "outputs": [
    {
     "ename": "NameError",
     "evalue": "name 'circuit' is not defined",
     "output_type": "error",
     "traceback": [
      "\u001b[1;31m---------------------------------------------------------------------------\u001b[0m",
      "\u001b[1;31mNameError\u001b[0m                                 Traceback (most recent call last)",
      "\u001b[1;32me:\\Users\\herutriana44\\Documents\\BioDataset\\ReVa(CLI)\\asset\\model\\Quantum Model\\test.ipynb Cell 9\u001b[0m line \u001b[0;36m3\n\u001b[0;32m      <a href='vscode-notebook-cell:/e%3A/Users/herutriana44/Documents/BioDataset/ReVa%28CLI%29/asset/model/Quantum%20Model/test.ipynb#X11sZmlsZQ%3D%3D?line=0'>1</a>\u001b[0m \u001b[39mwith\u001b[39;00m Session(service\u001b[39m=\u001b[39mservice, backend\u001b[39m=\u001b[39mbackend) \u001b[39mas\u001b[39;00m session:\n\u001b[0;32m      <a href='vscode-notebook-cell:/e%3A/Users/herutriana44/Documents/BioDataset/ReVa%28CLI%29/asset/model/Quantum%20Model/test.ipynb#X11sZmlsZQ%3D%3D?line=1'>2</a>\u001b[0m     estimator \u001b[39m=\u001b[39m Estimator(session\u001b[39m=\u001b[39msession)\n\u001b[1;32m----> <a href='vscode-notebook-cell:/e%3A/Users/herutriana44/Documents/BioDataset/ReVa%28CLI%29/asset/model/Quantum%20Model/test.ipynb#X11sZmlsZQ%3D%3D?line=2'>3</a>\u001b[0m     job \u001b[39m=\u001b[39m estimator\u001b[39m.\u001b[39mrun(circuit, observable)\n\u001b[0;32m      <a href='vscode-notebook-cell:/e%3A/Users/herutriana44/Documents/BioDataset/ReVa%28CLI%29/asset/model/Quantum%20Model/test.ipynb#X11sZmlsZQ%3D%3D?line=3'>4</a>\u001b[0m     result \u001b[39m=\u001b[39m job\u001b[39m.\u001b[39mresult()\n",
      "\u001b[1;31mNameError\u001b[0m: name 'circuit' is not defined"
     ]
    }
   ],
   "source": [
    "with Session(service=service, backend=backend) as session:\n",
    "    estimator = Estimator(session=session)\n",
    "    job = estimator.run(circuit, observable)\n",
    "    result = job.result()"
   ]
  },
  {
   "cell_type": "code",
   "execution_count": null,
   "metadata": {},
   "outputs": [
    {
     "data": {
      "text/plain": [
       "{'qiskit-terra': '0.25.1', 'qiskit': '0.44.1', 'qiskit-aer': '0.12.2', 'qiskit-ignis': None, 'qiskit-ibmq-provider': '0.20.2', 'qiskit-nature': None, 'qiskit-finance': None, 'qiskit-optimization': None, 'qiskit-machine-learning': '0.6.1'}"
      ]
     },
     "execution_count": 50,
     "metadata": {},
     "output_type": "execute_result"
    }
   ],
   "source": [
    "qiskit.__qiskit_version__"
   ]
  },
  {
   "cell_type": "code",
   "execution_count": null,
   "metadata": {},
   "outputs": [
    {
     "data": {
      "text/plain": [
       "1"
      ]
     },
     "execution_count": 51,
     "metadata": {},
     "output_type": "execute_result"
    }
   ],
   "source": [
    "int(a)"
   ]
  }
 ],
 "metadata": {
  "kernelspec": {
   "display_name": "Python 3",
   "language": "python",
   "name": "python3"
  },
  "language_info": {
   "codemirror_mode": {
    "name": "ipython",
    "version": 3
   },
   "file_extension": ".py",
   "mimetype": "text/x-python",
   "name": "python",
   "nbconvert_exporter": "python",
   "pygments_lexer": "ipython3",
   "version": "3.11.4"
  }
 },
 "nbformat": 4,
 "nbformat_minor": 2
}
